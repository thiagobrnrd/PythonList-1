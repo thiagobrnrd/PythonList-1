{
  "nbformat": 4,
  "nbformat_minor": 0,
  "metadata": {
    "colab": {
      "provenance": [],
      "include_colab_link": true
    },
    "kernelspec": {
      "name": "python3",
      "display_name": "Python 3"
    },
    "language_info": {
      "name": "python"
    }
  },
  "cells": [
    {
      "cell_type": "markdown",
      "metadata": {
        "id": "view-in-github",
        "colab_type": "text"
      },
      "source": [
        "<a href=\"https://colab.research.google.com/github/thiagobrnrd/PythonList-1/blob/main/List1_python_ThiagoBernardo_6B_noturno.ipynb\" target=\"_parent\"><img src=\"https://colab.research.google.com/assets/colab-badge.svg\" alt=\"Open In Colab\"/></a>"
      ]
    },
    {
      "cell_type": "code",
      "execution_count": null,
      "metadata": {
        "colab": {
          "base_uri": "https://localhost:8080/"
        },
        "id": "4s3vOeZpk9Y1",
        "outputId": "af49a6d2-b38f-4273-de00-b370693aafff"
      },
      "outputs": [
        {
          "output_type": "stream",
          "name": "stdout",
          "text": [
            "Hello World\n"
          ]
        }
      ],
      "source": [
        "#1 Hello Word\n",
        "\n",
        "print(\"Hello World\")"
      ]
    },
    {
      "cell_type": "code",
      "source": [
        "#2 Soma de Dois Números\n",
        "\n",
        "a = int(input(\"primeiro numero: \"))\n",
        "b = int(input(\"segundo numero: \"))\n",
        "print(a + b)"
      ],
      "metadata": {
        "colab": {
          "base_uri": "https://localhost:8080/"
        },
        "id": "gqLexvvdlpWR",
        "outputId": "a07441cb-a6ab-40e0-d85c-f3020b0e3d8e"
      },
      "execution_count": null,
      "outputs": [
        {
          "output_type": "stream",
          "name": "stdout",
          "text": [
            "primeiro numero: 58\n",
            "segundo numero: 35\n",
            "93\n"
          ]
        }
      ]
    },
    {
      "cell_type": "code",
      "source": [
        "#3 Cálculo da área do círculo\n",
        "\n",
        "raio = int(input(\"insira o raio do circulo: \"))\n",
        "print(3.14 * (raio ** 2))"
      ],
      "metadata": {
        "colab": {
          "base_uri": "https://localhost:8080/"
        },
        "id": "1H71EiXOl8yB",
        "outputId": "608f3e92-a4dc-4b34-a966-56ebc41b8e96"
      },
      "execution_count": null,
      "outputs": [
        {
          "output_type": "stream",
          "name": "stdout",
          "text": [
            "insira o raio do circulo: 5\n",
            "78.5\n"
          ]
        }
      ]
    },
    {
      "cell_type": "code",
      "source": [
        "#4 Conversão de Temperatura\n",
        "\n",
        "celsius = int(input(\"insira a temperatura em celsius: \"))\n",
        "print(celsius * (9/5) + 32)"
      ],
      "metadata": {
        "id": "uqZKyhsEoDGv",
        "colab": {
          "base_uri": "https://localhost:8080/"
        },
        "outputId": "3f459af2-9bf0-4758-9797-8259fa807bf0"
      },
      "execution_count": null,
      "outputs": [
        {
          "output_type": "stream",
          "name": "stdout",
          "text": [
            "insira a temperatura em celsius: 28\n",
            "82.4\n"
          ]
        }
      ]
    },
    {
      "cell_type": "code",
      "source": [
        "#5 Tabuada\n",
        "\n",
        "def tabuada(numero):\n",
        "    for i in range(1, 11):\n",
        "        print(f\"{numero} x {i} = {numero * i}\")\n",
        "\n",
        "numero = int(input(\"Digite um número para ver sua tabuada: \"))\n",
        "\n",
        "tabuada(numero)"
      ],
      "metadata": {
        "colab": {
          "base_uri": "https://localhost:8080/"
        },
        "id": "Uyxd7ejfHrbG",
        "outputId": "ae15a860-a7e1-4469-8b7a-82a339874c56"
      },
      "execution_count": null,
      "outputs": [
        {
          "output_type": "stream",
          "name": "stdout",
          "text": [
            "Digite um número para ver sua tabuada: 8\n",
            "8 x 1 = 8\n",
            "8 x 2 = 16\n",
            "8 x 3 = 24\n",
            "8 x 4 = 32\n",
            "8 x 5 = 40\n",
            "8 x 6 = 48\n",
            "8 x 7 = 56\n",
            "8 x 8 = 64\n",
            "8 x 9 = 72\n",
            "8 x 10 = 80\n"
          ]
        }
      ]
    },
    {
      "cell_type": "code",
      "source": [
        "#6 Números Pares\n",
        "\n",
        "for i in range(22):\n",
        "  if i % 2 == 0:\n",
        "    print(i)"
      ],
      "metadata": {
        "colab": {
          "base_uri": "https://localhost:8080/"
        },
        "id": "WAyxDDQeqd-h",
        "outputId": "1e1b1259-ed17-4395-dac8-ae5153f7e89a"
      },
      "execution_count": null,
      "outputs": [
        {
          "output_type": "stream",
          "name": "stdout",
          "text": [
            "0\n",
            "2\n",
            "4\n",
            "6\n",
            "8\n",
            "10\n",
            "12\n",
            "14\n",
            "16\n",
            "18\n",
            "20\n"
          ]
        }
      ]
    },
    {
      "cell_type": "code",
      "source": [
        "#7Numero Ímpar ou Par\n",
        "\n",
        "def verificar_paridade(numero):\n",
        "    if numero % 2 == 0:\n",
        "        return \"par\"\n",
        "    else:\n",
        "        return \"ímpar\"\n",
        "numero = int(input(\"Digite um número: \"))\n",
        "\n",
        "resultado = verificar_paridade(numero)\n",
        "print(f\"O número {numero} é {resultado}.\")"
      ],
      "metadata": {
        "colab": {
          "base_uri": "https://localhost:8080/"
        },
        "id": "Sc1RuDQTI1EG",
        "outputId": "df539455-8f0c-440c-ebc1-38f1c3b55f5b"
      },
      "execution_count": null,
      "outputs": [
        {
          "output_type": "stream",
          "name": "stdout",
          "text": [
            "Digite um número: 2\n",
            "O número 2 é par.\n"
          ]
        }
      ]
    },
    {
      "cell_type": "code",
      "source": [
        "#8 Verificação\n",
        "\n",
        "str = input(\"insira uma palavra: \")\n",
        "if(str[::-1] == str):\n",
        "  print(\"é palíndromo\")\n",
        "else:\n",
        "  print(\"não é palíndromo\")"
      ],
      "metadata": {
        "colab": {
          "base_uri": "https://localhost:8080/"
        },
        "id": "3SdGaeBYsxz1",
        "outputId": "75a0209a-3ecd-4608-d6a2-0b29ed291332"
      },
      "execution_count": null,
      "outputs": [
        {
          "output_type": "stream",
          "name": "stdout",
          "text": [
            "insira uma palavra: azul\n",
            "não é palíndromo\n"
          ]
        }
      ]
    },
    {
      "cell_type": "code",
      "source": [
        "#9 Fatorial\n",
        "\n",
        "import math\n",
        "\n",
        "def calcular_fatorial(numero):\n",
        "    return math.factorial(numero)\n",
        "\n",
        "numero = int(input(\"Digite um número para calcular o fatorial: \"))\n",
        "\n",
        "resultado = calcular_fatorial(numero)\n",
        "print(f\"O fatorial de {numero} é {resultado}.\")\n"
      ],
      "metadata": {
        "colab": {
          "base_uri": "https://localhost:8080/"
        },
        "id": "NpUxsiD5JamX",
        "outputId": "f015f642-cdfb-46b9-fd17-3a8393143fc4"
      },
      "execution_count": null,
      "outputs": [
        {
          "output_type": "stream",
          "name": "stdout",
          "text": [
            "Digite um número para calcular o fatorial: 38\n",
            "O fatorial de 38 é 523022617466601111760007224100074291200000000.\n"
          ]
        }
      ]
    },
    {
      "cell_type": "code",
      "source": [
        "#10 Sequência\n",
        "\n",
        "\n",
        "fib = lambda n : n if n == 1 or n == 0 else fib(n - 1) + fib(n - 2)\n",
        "for i in range(10):\n",
        "  print(fib(i))"
      ],
      "metadata": {
        "colab": {
          "base_uri": "https://localhost:8080/"
        },
        "id": "yQnLDOb7FMOf",
        "outputId": "11fab699-6683-4fff-b2ec-f97efd8a21cc"
      },
      "execution_count": null,
      "outputs": [
        {
          "output_type": "stream",
          "name": "stdout",
          "text": [
            "0\n",
            "1\n",
            "1\n",
            "2\n",
            "3\n",
            "5\n",
            "8\n",
            "13\n",
            "21\n",
            "34\n"
          ]
        }
      ]
    },
    {
      "cell_type": "code",
      "source": [
        "#11 Lista de Números\n",
        "\n",
        "lista = [1, 2, 5, 10, 22, 32, 42, 12, 94]\n",
        "print(min(lista))\n",
        "print(max(lista))"
      ],
      "metadata": {
        "colab": {
          "base_uri": "https://localhost:8080/"
        },
        "id": "673OgbIbFSG2",
        "outputId": "04a0edeb-4a8e-45aa-a5f6-e54c745eb08d"
      },
      "execution_count": null,
      "outputs": [
        {
          "output_type": "stream",
          "name": "stdout",
          "text": [
            "1\n",
            "94\n"
          ]
        }
      ]
    },
    {
      "cell_type": "code",
      "source": [
        "#12 Contagem\n",
        "\n",
        "str = input(\"insira uma palavra: \")\n",
        "print(len(str))"
      ],
      "metadata": {
        "colab": {
          "base_uri": "https://localhost:8080/"
        },
        "id": "T_TVu1dSFWIW",
        "outputId": "c06b79d0-5d85-4323-ede3-41f9b925e7a5"
      },
      "execution_count": null,
      "outputs": [
        {
          "output_type": "stream",
          "name": "stdout",
          "text": [
            "insira uma palavra: engenharia de software\n",
            "22\n"
          ]
        }
      ]
    },
    {
      "cell_type": "code",
      "source": [
        "#13 Ordenação\n",
        "\n",
        "lista = [1, 2, 5, 10, 22, 21, 42, 12, 94]\n",
        "lista.sort()\n",
        "print(lista)"
      ],
      "metadata": {
        "colab": {
          "base_uri": "https://localhost:8080/"
        },
        "id": "9BA4I0f3FaYo",
        "outputId": "c51978e1-33b9-4c73-9550-cc1090bf8680"
      },
      "execution_count": null,
      "outputs": [
        {
          "output_type": "stream",
          "name": "stdout",
          "text": [
            "[1, 2, 5, 10, 12, 21, 22, 42, 94]\n"
          ]
        }
      ]
    },
    {
      "cell_type": "code",
      "source": [
        "#14Soma dos Elementos de uma Lista\n",
        "\n",
        "lista = [1, 2, 5, 10, 22, 32, 42, 12, 94]\n",
        "a = 0\n",
        "for i in lista:\n",
        "  a += i\n",
        "print(a)"
      ],
      "metadata": {
        "colab": {
          "base_uri": "https://localhost:8080/"
        },
        "id": "4fY3KQTKFcre",
        "outputId": "2d404729-7dda-441b-924e-edac1a97321d"
      },
      "execution_count": null,
      "outputs": [
        {
          "output_type": "stream",
          "name": "stdout",
          "text": [
            "220\n"
          ]
        }
      ]
    },
    {
      "cell_type": "code",
      "source": [
        "#15 Média de uma lista\n",
        "\n",
        "lista = [1, 2, 5, 10, 22, 32, 42, 12, 94]\n",
        "a = 0\n",
        "for i in lista:\n",
        "  a += i\n",
        "print(a / len(lista))"
      ],
      "metadata": {
        "colab": {
          "base_uri": "https://localhost:8080/"
        },
        "id": "0mDJpnlhFgOX",
        "outputId": "7c64d0fa-0061-4915-a218-ab5a08dcc775"
      },
      "execution_count": null,
      "outputs": [
        {
          "output_type": "stream",
          "name": "stdout",
          "text": [
            "24.444444444444443\n"
          ]
        }
      ]
    },
    {
      "cell_type": "code",
      "source": [
        "#16 Manipulação\n",
        "\n",
        "str = input(\"insira uma palavra: \")\n",
        "print(str[::-1])"
      ],
      "metadata": {
        "colab": {
          "base_uri": "https://localhost:8080/"
        },
        "id": "pYOXCJbyFiIG",
        "outputId": "2e94b5a8-1729-427f-d526-fd10367e0041"
      },
      "execution_count": null,
      "outputs": [
        {
          "output_type": "stream",
          "name": "stdout",
          "text": [
            "insira uma palavra: universidade\n",
            "edadisrevinu\n"
          ]
        }
      ]
    },
    {
      "cell_type": "code",
      "source": [
        "#17 Dicionário\n",
        "\n",
        "str = input(\"insira uma palavra: \")\n",
        "palavras = str.split(' ')\n",
        "print(len(palavras))"
      ],
      "metadata": {
        "colab": {
          "base_uri": "https://localhost:8080/"
        },
        "id": "84RkIeXuFmk2",
        "outputId": "f95cf628-e4eb-4ef3-a398-0a33f53b4c77"
      },
      "execution_count": null,
      "outputs": [
        {
          "output_type": "stream",
          "name": "stdout",
          "text": [
            "insira uma palavra: inteligencia artificial\n",
            "2\n"
          ]
        }
      ]
    },
    {
      "cell_type": "code",
      "source": [
        "#18 Número Primo\n",
        "\n",
        "def true_primo():\n",
        "  n = int(input(\"insira um numero: \"))\n",
        "  for i in range(n):\n",
        "    if(i == n or i == 1 or i == 0):\n",
        "      continue\n",
        "    else:\n",
        "      if n % i == 0:\n",
        "        print(\"nâo é primo\")\n",
        "        return\n",
        "  print(\"é primo\")\n",
        "true_primo()"
      ],
      "metadata": {
        "colab": {
          "base_uri": "https://localhost:8080/"
        },
        "id": "L_YFP0yfF03B",
        "outputId": "0850b9d6-7ef8-49ba-938d-b3c795b373ae"
      },
      "execution_count": null,
      "outputs": [
        {
          "output_type": "stream",
          "name": "stdout",
          "text": [
            "insira um numero: 16\n",
            "nâo é primo\n"
          ]
        }
      ]
    },
    {
      "cell_type": "code",
      "source": [
        "#19 Jogo da Adivinhação\n",
        "\n",
        "import random\n",
        "\n",
        "def jogo_adivinhacao():\n",
        "    numero_secreto = random.randint(1, 100)\n",
        "    tentativas = 0\n",
        "\n",
        "    print(\"Tente adivinhar o número entre 1 e 100!\")\n",
        "\n",
        "    while True:\n",
        "        tentativa = int(input(\"Digite seu palpite: \"))\n",
        "        tentativas += 1\n",
        "\n",
        "        if tentativa < numero_secreto:\n",
        "            print(\"Muito baixo! Tente novamente.\")\n",
        "        elif tentativa > numero_secreto:\n",
        "            print(\"Muito alto! Tente novamente.\")\n",
        "        else:\n",
        "            print(f\"Parabéns! Você adivinhou o número {numero_secreto} em {tentativas} tentativas.\")\n",
        "            break\n",
        "\n",
        "jogo_adivinhacao()\n"
      ],
      "metadata": {
        "colab": {
          "base_uri": "https://localhost:8080/"
        },
        "id": "Pd3x61v5LCWX",
        "outputId": "0f355179-5df4-4697-b8ca-4f045dede6bd"
      },
      "execution_count": null,
      "outputs": [
        {
          "output_type": "stream",
          "name": "stdout",
          "text": [
            "Tente adivinhar o número entre 1 e 100!\n",
            "Digite seu palpite: 90\n",
            "Muito baixo! Tente novamente.\n",
            "Digite seu palpite: 95\n",
            "Muito alto! Tente novamente.\n",
            "Digite seu palpite: 92\n",
            "Parabéns! Você adivinhou o número 92 em 3 tentativas.\n"
          ]
        }
      ]
    },
    {
      "cell_type": "code",
      "source": [
        "#20 Matriz\n",
        "\n",
        "def transpor_matriz(matriz):\n",
        "    return [[matriz[j][i] for j in range(len(matriz))] for i in range(len(matriz[0]))]\n",
        "\n",
        "matriz = [\n",
        "    [1, 2, 3],\n",
        "    [4, 5, 6],\n",
        "    [7, 8, 9]\n",
        "]\n",
        "\n",
        "matriz_transposta = transpor_matriz(matriz)\n",
        "\n",
        "print(\"Matriz original:\")\n",
        "for linha in matriz:\n",
        "    print(linha)\n",
        "\n",
        "print(\"\\nMatriz transposta:\")\n",
        "for linha in matriz_transposta:\n",
        "    print(linha)"
      ],
      "metadata": {
        "colab": {
          "base_uri": "https://localhost:8080/"
        },
        "id": "IIXTlSx8LXku",
        "outputId": "a124dbfb-62c7-4d7d-cd09-9fbc887b7186"
      },
      "execution_count": null,
      "outputs": [
        {
          "output_type": "stream",
          "name": "stdout",
          "text": [
            "Matriz original:\n",
            "[1, 2, 3]\n",
            "[4, 5, 6]\n",
            "[7, 8, 9]\n",
            "\n",
            "Matriz transposta:\n",
            "[1, 4, 7]\n",
            "[2, 5, 8]\n",
            "[3, 6, 9]\n"
          ]
        }
      ]
    },
    {
      "cell_type": "code",
      "source": [
        "#21 Busca Binária\n",
        "\n",
        "def busca_binaria(lista, elemento):\n",
        "    esquerda, direita = 0, len(lista) - 1\n",
        "\n",
        "    while esquerda <= direita:\n",
        "        meio = (esquerda + direita) // 2\n",
        "\n",
        "        if lista[meio] == elemento:\n",
        "            return meio\n",
        "        elif lista[meio] < elemento:\n",
        "            esquerda = meio + 1\n",
        "        else:\n",
        "            direita = meio - 1\n",
        "\n",
        "    return -1\n",
        "\n",
        "\n",
        "lista_ordenada = [1, 3, 5, 7, 9, 11, 13, 15]\n",
        "elemento = int(input(\"Digite um número para buscar: \"))\n",
        "\n",
        "indice = busca_binaria(lista_ordenada, elemento)\n",
        "\n",
        "if indice != -1:\n",
        "    print(f\"Elemento encontrado na posição {indice}.\")\n",
        "else:\n",
        "    print(\"Elemento não encontrado na lista.\")\n"
      ],
      "metadata": {
        "id": "mdziLLe2L05W"
      },
      "execution_count": null,
      "outputs": []
    },
    {
      "cell_type": "code",
      "source": [
        "#22 Criptografia\n",
        "\n",
        "def cifra_de_cesar(mensagem, chave):\n",
        "    resultado = \"\"\n",
        "    for caractere in mensagem:\n",
        "        if caractere.isalpha():\n",
        "            deslocamento = chave % 26\n",
        "            codigo = ord(caractere) + deslocamento\n",
        "            if caractere.islower():\n",
        "                if codigo > ord('z'):\n",
        "                    codigo -= 26\n",
        "            else:\n",
        "                if codigo > ord('Z'):\n",
        "                    codigo -= 26\n",
        "            resultado += chr(codigo)\n",
        "        else:\n",
        "            resultado += caractere\n",
        "    return resultado\n",
        "\n",
        "mensagem = input(\"Digite a mensagem para criptografar: \")\n",
        "chave = int(input(\"Digite a chave de deslocamento: \"))\n",
        "mensagem_criptografada = cifra_de_cesar(mensagem, chave)\n",
        "print(f\"Mensagem criptografada: {mensagem_criptografada}\")"
      ],
      "metadata": {
        "colab": {
          "base_uri": "https://localhost:8080/"
        },
        "id": "4vB92_JOMMOH",
        "outputId": "c6d8f506-df50-4670-cbfe-ee8ba5714c04"
      },
      "execution_count": null,
      "outputs": [
        {
          "output_type": "stream",
          "name": "stdout",
          "text": [
            "Digite a mensagem para criptografar: thiago\n",
            "Digite a chave de deslocamento: 10\n",
            "Mensagem criptografada: drskqy\n"
          ]
        }
      ]
    },
    {
      "cell_type": "code",
      "source": [
        "#23 Descriptografar\n",
        "\n",
        "def descriptografar_cifra_de_cesar(mensagem_cifrada, deslocamento):\n",
        "    \"\"\"\n",
        "    Descriptografa uma mensagem cifrada com a cifra de César.\n",
        "\n",
        "    Args:\n",
        "        mensagem_cifrada (str): A mensagem cifrada.\n",
        "        deslocamento (int): O deslocamento utilizado na cifra.\n",
        "\n",
        "    Returns:\n",
        "        str: A mensagem descriptografada.\n",
        "    \"\"\"\n",
        "\n",
        "\n",
        "    mensagem_descriptografada = \"\"\n",
        "\n",
        "    for caractere in mensagem_cifrada:\n",
        "        if caractere.isupper():\n",
        "            ascii_descriptografado = (ord(caractere) - 65 - deslocamento) % 26 + 65\n",
        "            mensagem_descriptografada += chr(ascii_descriptografado)\n",
        "        elif caractere.islower():\n",
        "            ascii_descriptografado = (ord(caractere) - 97 - deslocamento) % 26 + 97\n",
        "            mensagem_descriptografada += chr(ascii_descriptografado)\n",
        "        else:\n",
        "            mensagem_descriptografada += caractere\n",
        "    return mensagem_descriptografada\n",
        "\n",
        "##mensagem_cifrada = \"\"\n",
        "##deslocamento = 10\n",
        "##mensagem_descriptografada = descriptografar_cifra_de_cesar(mensagem_cifrada, deslocamento)\n",
        "##print(\"Mensagem descriptografada:\", mensagem_descriptografada)\n",
        "\n",
        "mensagem = input(\"Digite a mensagem para criptografar: \")\n",
        "chave = int(input(\"Digite a chave de deslocamento: \"))\n",
        "mensagem_descriptografada = cifra_de_cesar(mensagem, chave)\n",
        "print(f\"Mensagem descriptografada: {mensagem_descriptografada}\")"
      ],
      "metadata": {
        "colab": {
          "base_uri": "https://localhost:8080/"
        },
        "id": "WRAmDMWlNK6v",
        "outputId": "8ad58401-4f21-4b00-ba0c-9b3922e3590d"
      },
      "execution_count": null,
      "outputs": [
        {
          "output_type": "stream",
          "name": "stdout",
          "text": [
            "Digite a mensagem para criptografar: thiago\n",
            "Digite a chave de deslocamento: 10\n",
            "Mensagem descriptografada: drskqy\n"
          ]
        }
      ]
    },
    {
      "cell_type": "code",
      "source": [
        "#24 Validação cpf\n",
        "\n",
        "def validar_cpf(cpf):\n",
        "\n",
        "    cpf = ''.join(filter(str.isdigit, cpf))\n",
        "\n",
        "\n",
        "    if len(cpf) != 11:\n",
        "        return False\n",
        "\n",
        "\n",
        "    if cpf == cpf[0] * 11:\n",
        "        return False\n",
        "\n",
        "\n",
        "    soma = 0\n",
        "    for i in range(9):\n",
        "        soma += int(cpf[i]) * (10 - i)\n",
        "    primeiro_digito = (soma * 10) % 11\n",
        "    if primeiro_digito == 10 or primeiro_digito == 11:\n",
        "        primeiro_digito = 0\n",
        "    if primeiro_digito != int(cpf[9]):\n",
        "        return False\n",
        "\n",
        "\n",
        "    soma = 0\n",
        "    for i in range(10):\n",
        "        soma += int(cpf[i]) * (11 - i)\n",
        "    segundo_digito = (soma * 10) % 11\n",
        "    if segundo_digito == 10 or segundo_digito == 11:\n",
        "        segundo_digito = 0\n",
        "    if segundo_digito != int(cpf[10]):\n",
        "        return False\n",
        "\n",
        "    return True\n",
        "\n",
        "\n",
        "cpf = input(\"Digite o CPF para validar (apenas números): \")\n",
        "if validar_cpf(cpf):\n",
        "    print(\"CPF válido!\")\n",
        "else:\n",
        "    print(\"CPF inválido!\")\n",
        "\n"
      ],
      "metadata": {
        "colab": {
          "base_uri": "https://localhost:8080/"
        },
        "id": "FVqr0jlFNpdf",
        "outputId": "9840b9af-88a2-453c-ba95-83d309031677"
      },
      "execution_count": null,
      "outputs": [
        {
          "output_type": "stream",
          "name": "stdout",
          "text": [
            "Digite o CPF para validar (apenas números): 49783272887\n",
            "CPF inválido!\n"
          ]
        }
      ]
    },
    {
      "cell_type": "code",
      "source": [
        "#25 Classificação de Números\n",
        "\n",
        "def classificar_numeros(lista):\n",
        "    positivos = []\n",
        "    negativos = []\n",
        "    zeros = []\n",
        "\n",
        "    for num in lista:\n",
        "        if num > 0:\n",
        "            positivos.append(num)\n",
        "        elif num < 0:\n",
        "            negativos.append(num)\n",
        "        else:\n",
        "            zeros.append(num)\n",
        "\n",
        "    return positivos, negativos, zeros\n",
        "\n",
        "numeros = [10, -3, 0, 7, -2, 0, 4, -8]\n",
        "positivos, negativos, zeros = classificar_numeros(numeros)\n",
        "\n",
        "print(\"Positivos:\", positivos)\n",
        "print(\"Negativos:\", negativos)\n",
        "print(\"Zeros:\", zeros)"
      ],
      "metadata": {
        "colab": {
          "base_uri": "https://localhost:8080/"
        },
        "id": "iWjIKopERDh_",
        "outputId": "6ef1b39b-2588-4d0d-b08e-c6c4fcb0e690"
      },
      "execution_count": null,
      "outputs": [
        {
          "output_type": "stream",
          "name": "stdout",
          "text": [
            "Positivos: [10, 7, 4]\n",
            "Negativos: [-3, -2, -8]\n",
            "Zeros: [0, 0]\n"
          ]
        }
      ]
    },
    {
      "cell_type": "code",
      "source": [
        "#26 Calculadora\n",
        "\n",
        "def adicionar(x, y):\n",
        "    return x + y\n",
        "\n",
        "def subtrair(x, y):\n",
        "    return x - y\n",
        "\n",
        "def multiplicar(x, y):\n",
        "    return x * y\n",
        "\n",
        "def dividir(x, y):\n",
        "    if y == 0:\n",
        "        return \"Erro! Divisão por zero.\"\n",
        "    return x / y\n",
        "\n",
        "def calculadora():\n",
        "    print(\"Selecione a operação desejada:\")\n",
        "    print(\"1. Adição\")\n",
        "    print(\"2. Subtração\")\n",
        "    print(\"3. Multiplicação\")\n",
        "    print(\"4. Divisão\")\n",
        "\n",
        "    escolha = input(\"Digite o número da operação (1/2/3/4): \")\n",
        "\n",
        "    if escolha not in ('1', '2', '3', '4'):\n",
        "        print(\"Opção inválida!\")\n",
        "        return\n",
        "\n",
        "    num1 = float(input(\"Digite o primeiro número: \"))\n",
        "    num2 = float(input(\"Digite o segundo número: \"))\n",
        "\n",
        "    if escolha == '1':\n",
        "        print(f\"{num1} + {num2} = {adicionar(num1, num2)}\")\n",
        "    elif escolha == '2':\n",
        "        print(f\"{num1} - {num2} = {subtrair(num1, num2)}\")\n",
        "    elif escolha == '3':\n",
        "        print(f\"{num1} * {num2} = {multiplicar(num1, num2)}\")\n",
        "    elif escolha == '4':\n",
        "        print(f\"{num1} / {num2} = {dividir(num1, num2)}\")\n",
        "\n",
        "calculadora()"
      ],
      "metadata": {
        "colab": {
          "base_uri": "https://localhost:8080/"
        },
        "id": "T5dD4yjORNIH",
        "outputId": "ab2f7b55-12a9-46ea-be5b-913c259c44e4"
      },
      "execution_count": null,
      "outputs": [
        {
          "output_type": "stream",
          "name": "stdout",
          "text": [
            "Selecione a operação desejada:\n",
            "1. Adição\n",
            "2. Subtração\n",
            "3. Multiplicação\n",
            "4. Divisão\n",
            "Digite o número da operação (1/2/3/4): 1\n",
            "Digite o primeiro número: 356\n",
            "Digite o segundo número: 654\n",
            "356.0 + 654.0 = 1010.0\n"
          ]
        }
      ]
    },
    {
      "cell_type": "code",
      "source": [
        "#27 Anagramas\n",
        "def verificar_anagrama(palavra1, palavra2):\n",
        "\n",
        "    palavra1 = palavra1.replace(\" \", \"\").lower()\n",
        "    palavra2 = palavra2.replace(\" \", \"\").lower()\n",
        "\n",
        "\n",
        "    return sorted(palavra1) == sorted(palavra2)\n",
        "\n",
        "\n",
        "palavra1 = input(\"Digite a primeira palavra: \")\n",
        "palavra2 = input(\"Digite a segunda palavra: \")\n",
        "\n",
        "if verificar_anagrama(palavra1, palavra2):\n",
        "    print(f\"'{palavra1}' e '{palavra2}' são anagramas.\")\n",
        "else:\n",
        "    print(f\"'{palavra1}' e '{palavra2}' NÃO são anagramas.\")"
      ],
      "metadata": {
        "colab": {
          "base_uri": "https://localhost:8080/"
        },
        "id": "xDk9cK1KRn2A",
        "outputId": "da434ac3-0090-40cd-8a89-f200b4a98f20"
      },
      "execution_count": null,
      "outputs": [
        {
          "output_type": "stream",
          "name": "stdout",
          "text": [
            "Digite a primeira palavra: thiago\n",
            "Digite a segunda palavra: bernardo\n",
            "'thiago' e 'bernardo' NÃO são anagramas.\n"
          ]
        }
      ]
    },
    {
      "cell_type": "code",
      "source": [
        "#28 Gráfico\n",
        "\n",
        "import matplotlib.pyplot as plt\n",
        "\n",
        "def criar_grafico_barras():\n",
        "    n = int(input(\"Quantas barras você quer no gráfico? \"))\n",
        "\n",
        "    rotulos = []\n",
        "    valores = []\n",
        "\n",
        "    for i in range(n):\n",
        "        rotulo = input(f\"Digite o rótulo da barra {i + 1}: \")\n",
        "        valor = float(input(f\"Digite o valor da barra {i + 1}: \"))\n",
        "        rotulos.append(rotulo)\n",
        "        valores.append(valor)\n",
        "\n",
        "    plt.bar(rotulos, valores)\n",
        "\n",
        "\n",
        "    plt.title(\"Gráfico de Barras - Dados do Usuário\")\n",
        "    plt.xlabel(\"Rótulos\")\n",
        "    plt.ylabel(\"Valores\")\n",
        "\n",
        "\n",
        "    plt.show()\n",
        "criar_grafico_barras()\n"
      ],
      "metadata": {
        "colab": {
          "base_uri": "https://localhost:8080/",
          "height": 698
        },
        "id": "Et3sgJHIR4kA",
        "outputId": "74b75368-1b74-4df9-9852-dabf084ecb8a"
      },
      "execution_count": null,
      "outputs": [
        {
          "name": "stdout",
          "output_type": "stream",
          "text": [
            "Quantas barras você quer no gráfico? 6\n",
            "Digite o rótulo da barra 1: 2\n",
            "Digite o valor da barra 1: 2\n",
            "Digite o rótulo da barra 2: 3\n",
            "Digite o valor da barra 2: 34\n",
            "Digite o rótulo da barra 3: 4\n",
            "Digite o valor da barra 3: 45\n",
            "Digite o rótulo da barra 4: 5\n",
            "Digite o valor da barra 4: 55\n",
            "Digite o rótulo da barra 5: 6\n",
            "Digite o valor da barra 5: 65\n",
            "Digite o rótulo da barra 6: 7\n",
            "Digite o valor da barra 6: 75\n"
          ]
        },
        {
          "output_type": "display_data",
          "data": {
            "text/plain": [
              "<Figure size 640x480 with 1 Axes>"
            ],
            "image/png": "[encoded data removed]"
          },
          "metadata": {}
        }
      ]
    },
    {
      "cell_type": "code",
      "source": [
        "#29 FizzBuzz\n",
        "\n",
        "for i in range(1, 101):\n",
        "    if i % 3 == 0 and i % 5 == 0:\n",
        "        print(\"FizzBuzz\")\n",
        "    elif i % 3 == 0:\n",
        "        print(\"Fizz\")\n",
        "    elif i % 5 == 0:\n",
        "        print(\"Buzz\")\n",
        "    else:\n",
        "        print(i)"
      ],
      "metadata": {
        "id": "ljPaw3RgSNc4",
        "colab": {
          "base_uri": "https://localhost:8080/"
        },
        "outputId": "e0bfac5d-1c51-4ab3-f8c4-035e6af212b5"
      },
      "execution_count": null,
      "outputs": [
        {
          "output_type": "stream",
          "name": "stdout",
          "text": [
            "1\n",
            "2\n",
            "Fizz\n",
            "4\n",
            "Buzz\n",
            "Fizz\n",
            "7\n",
            "8\n",
            "Fizz\n",
            "Buzz\n",
            "11\n",
            "Fizz\n",
            "13\n",
            "14\n",
            "FizzBuzz\n",
            "16\n",
            "17\n",
            "Fizz\n",
            "19\n",
            "Buzz\n",
            "Fizz\n",
            "22\n",
            "23\n",
            "Fizz\n",
            "Buzz\n",
            "26\n",
            "Fizz\n",
            "28\n",
            "29\n",
            "FizzBuzz\n",
            "31\n",
            "32\n",
            "Fizz\n",
            "34\n",
            "Buzz\n",
            "Fizz\n",
            "37\n",
            "38\n",
            "Fizz\n",
            "Buzz\n",
            "41\n",
            "Fizz\n",
            "43\n",
            "44\n",
            "FizzBuzz\n",
            "46\n",
            "47\n",
            "Fizz\n",
            "49\n",
            "Buzz\n",
            "Fizz\n",
            "52\n",
            "53\n",
            "Fizz\n",
            "Buzz\n",
            "56\n",
            "Fizz\n",
            "58\n",
            "59\n",
            "FizzBuzz\n",
            "61\n",
            "62\n",
            "Fizz\n",
            "64\n",
            "Buzz\n",
            "Fizz\n",
            "67\n",
            "68\n",
            "Fizz\n",
            "Buzz\n",
            "71\n",
            "Fizz\n",
            "73\n",
            "74\n",
            "FizzBuzz\n",
            "76\n",
            "77\n",
            "Fizz\n",
            "79\n",
            "Buzz\n",
            "Fizz\n",
            "82\n",
            "83\n",
            "Fizz\n",
            "Buzz\n",
            "86\n",
            "Fizz\n",
            "88\n",
            "89\n",
            "FizzBuzz\n",
            "91\n",
            "92\n",
            "Fizz\n",
            "94\n",
            "Buzz\n",
            "Fizz\n",
            "97\n",
            "98\n",
            "Fizz\n",
            "Buzz\n"
          ]
        }
      ]
    },
    {
      "cell_type": "code",
      "source": [
        "#30 Jogo da Forca\n",
        "\n",
        "import random\n",
        "\n",
        "def escolher_palavra():\n",
        "\n",
        "    palavras = [\"python\", \"java\", \"javascript\", \"forca\", \"desenvolvimento\", \"computador\", \"programacao\"]\n",
        "    return random.choice(palavras)\n",
        "\n",
        "def exibir_palavra(palavra, letras_corretas):\n",
        "\n",
        "    return \"\".join([letra if letra in letras_corretas else \"_\" for letra in palavra])\n",
        "\n",
        "def jogar_forca():\n",
        "    palavra = escolher_palavra()\n",
        "    letras_corretas = []\n",
        "    tentativas = 6\n",
        "    letras_erradas = []\n",
        "    palavra_exibida = exibir_palavra(palavra, letras_corretas)\n",
        "\n",
        "    print(\"Bem-vindo ao Jogo da Forca!\")\n",
        "    print(f\"A palavra tem {len(palavra)} letras.\")\n",
        "\n",
        "    while tentativas > 0 and \"_\" in palavra_exibida:\n",
        "        print(\"\\nPalavra:\", palavra_exibida)\n",
        "        print(f\"Tentativas restantes: {tentativas}\")\n",
        "        print(f\"Letras erradas: {', '.join(letras_erradas)}\")\n",
        "\n",
        "\n",
        "        tentativa = input(\"Digite uma letra: \").lower()\n",
        "\n",
        "        if len(tentativa) != 1 or not tentativa.isalpha():\n",
        "            print(\"Por favor, digite apenas uma letra.\")\n",
        "            continue\n",
        "\n",
        "\n",
        "        if tentativa in letras_corretas or tentativa in letras_erradas:\n",
        "            print(\"Você já tentou essa letra. Tente outra.\")\n",
        "            continue\n",
        "\n",
        "        if tentativa in palavra:\n",
        "            letras_corretas.append(tentativa)\n",
        "            palavra_exibida = exibir_palavra(palavra, letras_corretas)\n",
        "            print(f\"Boa! A letra '{tentativa}' está na palavra.\")\n",
        "        else:\n",
        "            letras_erradas.append(tentativa)\n",
        "            tentativas -= 1\n",
        "            print(f\"A letra '{tentativa}' não está na palavra.\")\n",
        "\n",
        "\n",
        "    if \"_\" not in palavra_exibida:\n",
        "        print(\"\\nParabéns! Você adivinhou a palavra:\", palavra)\n",
        "    else:\n",
        "        print(f\"\\nVocê perdeu! A palavra era: {palavra}\")\n",
        "\n",
        "\n",
        "jogar_forca()\n"
      ],
      "metadata": {
        "id": "RpU7udQpSb2X",
        "colab": {
          "base_uri": "https://localhost:8080/"
        },
        "outputId": "22eeab07-5e34-417b-9b03-f08316adec7d"
      },
      "execution_count": null,
      "outputs": [
        {
          "output_type": "stream",
          "name": "stdout",
          "text": [
            "Bem-vindo ao Jogo da Forca!\n",
            "A palavra tem 15 letras.\n",
            "\n",
            "Palavra: _______________\n",
            "Tentativas restantes: 6\n",
            "Letras erradas: \n",
            "Digite uma letra: java\n",
            "Por favor, digite apenas uma letra.\n",
            "\n",
            "Palavra: _______________\n",
            "Tentativas restantes: 6\n",
            "Letras erradas: \n",
            "Digite uma letra: j\n",
            "A letra 'j' não está na palavra.\n",
            "\n",
            "Palavra: _______________\n",
            "Tentativas restantes: 5\n",
            "Letras erradas: j\n",
            "Digite uma letra: a\n",
            "A letra 'a' não está na palavra.\n",
            "\n",
            "Palavra: _______________\n",
            "Tentativas restantes: 4\n",
            "Letras erradas: j, a\n",
            "Digite uma letra: p\n",
            "A letra 'p' não está na palavra.\n",
            "\n",
            "Palavra: _______________\n",
            "Tentativas restantes: 3\n",
            "Letras erradas: j, a, p\n",
            "Digite uma letra: s\n",
            "Boa! A letra 's' está na palavra.\n",
            "\n",
            "Palavra: __s____________\n",
            "Tentativas restantes: 3\n",
            "Letras erradas: j, a, p\n",
            "Digite uma letra: s\n",
            "Você já tentou essa letra. Tente outra.\n",
            "\n",
            "Palavra: __s____________\n",
            "Tentativas restantes: 3\n",
            "Letras erradas: j, a, p\n",
            "Digite uma letra: c\n",
            "A letra 'c' não está na palavra.\n",
            "\n",
            "Palavra: __s____________\n",
            "Tentativas restantes: 2\n",
            "Letras erradas: j, a, p, c\n",
            "Digite uma letra: d\n",
            "Boa! A letra 'd' está na palavra.\n",
            "\n",
            "Palavra: d_s____________\n",
            "Tentativas restantes: 2\n",
            "Letras erradas: j, a, p, c\n",
            "Digite uma letra: e\n",
            "Boa! A letra 'e' está na palavra.\n",
            "\n",
            "Palavra: dese_______e___\n",
            "Tentativas restantes: 2\n",
            "Letras erradas: j, a, p, c\n",
            "Digite uma letra: n\n",
            "Boa! A letra 'n' está na palavra.\n",
            "\n",
            "Palavra: desen______en__\n",
            "Tentativas restantes: 2\n",
            "Letras erradas: j, a, p, c\n",
            "Digite uma letra: v\n",
            "Boa! A letra 'v' está na palavra.\n",
            "\n",
            "Palavra: desenv__v__en__\n",
            "Tentativas restantes: 2\n",
            "Letras erradas: j, a, p, c\n",
            "Digite uma letra: o\n",
            "Boa! A letra 'o' está na palavra.\n",
            "\n",
            "Palavra: desenvo_v__en_o\n",
            "Tentativas restantes: 2\n",
            "Letras erradas: j, a, p, c\n",
            "Digite uma letra: l\n",
            "Boa! A letra 'l' está na palavra.\n",
            "\n",
            "Palavra: desenvolv__en_o\n",
            "Tentativas restantes: 2\n",
            "Letras erradas: j, a, p, c\n",
            "Digite uma letra: i\n",
            "Boa! A letra 'i' está na palavra.\n",
            "\n",
            "Palavra: desenvolvi_en_o\n",
            "Tentativas restantes: 2\n",
            "Letras erradas: j, a, p, c\n",
            "Digite uma letra: m\n",
            "Boa! A letra 'm' está na palavra.\n",
            "\n",
            "Palavra: desenvolvimen_o\n",
            "Tentativas restantes: 2\n",
            "Letras erradas: j, a, p, c\n",
            "Digite uma letra: t\n",
            "Boa! A letra 't' está na palavra.\n",
            "\n",
            "Parabéns! Você adivinhou a palavra: desenvolvimento\n"
          ]
        }
      ]
    },
    {
      "cell_type": "code",
      "source": [
        "#31 Bubble Sort\n",
        "\n",
        "def bubble_sort(lista):\n",
        "    n = len(lista)\n",
        "\n",
        "    for i in range(n):\n",
        "        trocou = False\n",
        "        for j in range(0, n-i-1):\n",
        "            if lista[j] > lista[j+1]:\n",
        "\n",
        "                lista[j], lista[j+1] = lista[j+1], lista[j]\n",
        "                trocou = True\n",
        "        if not trocou:\n",
        "            break\n",
        "\n",
        "    return lista\n",
        "\n",
        "\n",
        "lista = [64, 34, 25, 12, 22, 11, 90]\n",
        "print(\"Lista antes da ordenação:\", lista)\n",
        "\n",
        "sorted_lista = bubble_sort(lista)\n",
        "print(\"Lista depois da ordenação:\", sorted_lista)\n"
      ],
      "metadata": {
        "colab": {
          "base_uri": "https://localhost:8080/"
        },
        "id": "ZNtG9oH9S4lg",
        "outputId": "289d6601-9228-4866-a20b-66928ad7ab79"
      },
      "execution_count": null,
      "outputs": [
        {
          "output_type": "stream",
          "name": "stdout",
          "text": [
            "Lista antes da ordenação: [64, 34, 25, 12, 22, 11, 90]\n",
            "Lista depois da ordenação: [11, 12, 22, 25, 34, 64, 90]\n"
          ]
        }
      ]
    },
    {
      "cell_type": "code",
      "source": [
        "#32 Jogo da velha\n",
        "\n",
        "def imprimir_tabuleiro(tabuleiro):\n",
        "    print(\"-------------\")\n",
        "    for i in range(3):\n",
        "        print(f\"| {tabuleiro[i][0]} | {tabuleiro[i][1]} | {tabuleiro[i][2]} |\")\n",
        "        print(\"-------------\")\n",
        "\n",
        "def verificar_vitoria(tabuleiro, jogador):\n",
        "    for i in range(3):\n",
        "        if tabuleiro[i][0] == tabuleiro[i][1] == tabuleiro[i][2] == jogador:\n",
        "            return True\n",
        "    for i in range(3):\n",
        "        if tabuleiro[0][i] == tabuleiro[1][i] == tabuleiro[2][i] == jogador:\n",
        "            return True\n",
        "    if tabuleiro[0][0] == tabuleiro[1][1] == tabuleiro[2][2] == jogador:\n",
        "        return True\n",
        "    if tabuleiro[0][2] == tabuleiro[1][1] == tabuleiro[2][0] == jogador:\n",
        "        return True\n",
        "\n",
        "    return False\n",
        "\n",
        "def verificar_empate(tabuleiro):\n",
        "    for i in range(3):\n",
        "        for j in range(3):\n",
        "            if tabuleiro[i][j] == \" \":\n",
        "                return False\n",
        "    return True\n",
        "\n",
        "def jogar():\n",
        "    tabuleiro = [[\" \" for _ in range(3)] for _ in range(3)]\n",
        "    jogador_atual = \"X\"\n",
        "\n",
        "    while True:\n",
        "        imprimir_tabuleiro(tabuleiro)\n",
        "        print(f\"Jogador {jogador_atual}, é sua vez.\")\n",
        "        linha = int(input(\"Escolha a linha (0, 1, 2): \"))\n",
        "        coluna = int(input(\"Escolha a coluna (0, 1, 2): \"))\n",
        "        if tabuleiro[linha][coluna] != \" \":\n",
        "            print(\"Essa posição já está ocupada, tente novamente.\")\n",
        "            continue\n",
        "        tabuleiro[linha][coluna] = jogador_atual\n",
        "        if verificar_vitoria(tabuleiro, jogador_atual):\n",
        "            imprimir_tabuleiro(tabuleiro)\n",
        "            print(f\"Jogador {jogador_atual} venceu!\")\n",
        "            break\n",
        "        if verificar_empate(tabuleiro):\n",
        "            imprimir_tabuleiro(tabuleiro)\n",
        "            print(\"O jogo empatou!\")\n",
        "            break\n",
        "        jogador_atual = \"O\" if jogador_atual == \"X\" else \"X\"\n",
        "\n",
        "jogar()\n"
      ],
      "metadata": {
        "colab": {
          "base_uri": "https://localhost:8080/"
        },
        "id": "8KBUgAySTPCw",
        "outputId": "30a989ab-7a81-4302-9a82-3d0c25c71dba"
      },
      "execution_count": null,
      "outputs": [
        {
          "output_type": "stream",
          "name": "stdout",
          "text": [
            "-------------\n",
            "|   |   |   |\n",
            "-------------\n",
            "|   |   |   |\n",
            "-------------\n",
            "|   |   |   |\n",
            "-------------\n",
            "Jogador X, é sua vez.\n",
            "Escolha a linha (0, 1, 2): 1\n",
            "Escolha a coluna (0, 1, 2): 1\n",
            "-------------\n",
            "|   |   |   |\n",
            "-------------\n",
            "|   | X |   |\n",
            "-------------\n",
            "|   |   |   |\n",
            "-------------\n",
            "Jogador O, é sua vez.\n",
            "Escolha a linha (0, 1, 2): 2\n",
            "Escolha a coluna (0, 1, 2): 2\n",
            "-------------\n",
            "|   |   |   |\n",
            "-------------\n",
            "|   | X |   |\n",
            "-------------\n",
            "|   |   | O |\n",
            "-------------\n",
            "Jogador X, é sua vez.\n",
            "Escolha a linha (0, 1, 2): 0\n",
            "Escolha a coluna (0, 1, 2): 0\n",
            "-------------\n",
            "| X |   |   |\n",
            "-------------\n",
            "|   | X |   |\n",
            "-------------\n",
            "|   |   | O |\n",
            "-------------\n",
            "Jogador O, é sua vez.\n",
            "Escolha a linha (0, 1, 2): 2\n",
            "Escolha a coluna (0, 1, 2): 2\n",
            "Essa posição já está ocupada, tente novamente.\n",
            "-------------\n",
            "| X |   |   |\n",
            "-------------\n",
            "|   | X |   |\n",
            "-------------\n",
            "|   |   | O |\n",
            "-------------\n",
            "Jogador O, é sua vez.\n",
            "Escolha a linha (0, 1, 2): 2\n",
            "Escolha a coluna (0, 1, 2): 1\n",
            "-------------\n",
            "| X |   |   |\n",
            "-------------\n",
            "|   | X |   |\n",
            "-------------\n",
            "|   | O | O |\n",
            "-------------\n",
            "Jogador X, é sua vez.\n",
            "Escolha a linha (0, 1, 2): 1\n",
            "Escolha a coluna (0, 1, 2): 1\n",
            "Essa posição já está ocupada, tente novamente.\n",
            "-------------\n",
            "| X |   |   |\n",
            "-------------\n",
            "|   | X |   |\n",
            "-------------\n",
            "|   | O | O |\n",
            "-------------\n",
            "Jogador X, é sua vez.\n",
            "Escolha a linha (0, 1, 2): 1\n",
            "Escolha a coluna (0, 1, 2): 1\n",
            "Essa posição já está ocupada, tente novamente.\n",
            "-------------\n",
            "| X |   |   |\n",
            "-------------\n",
            "|   | X |   |\n",
            "-------------\n",
            "|   | O | O |\n",
            "-------------\n",
            "Jogador X, é sua vez.\n",
            "Escolha a linha (0, 1, 2): 1\n",
            "Escolha a coluna (0, 1, 2): 0\n",
            "-------------\n",
            "| X |   |   |\n",
            "-------------\n",
            "| X | X |   |\n",
            "-------------\n",
            "|   | O | O |\n",
            "-------------\n",
            "Jogador O, é sua vez.\n",
            "Escolha a linha (0, 1, 2): 2\n",
            "Escolha a coluna (0, 1, 2): 0\n",
            "-------------\n",
            "| X |   |   |\n",
            "-------------\n",
            "| X | X |   |\n",
            "-------------\n",
            "| O | O | O |\n",
            "-------------\n",
            "Jogador O venceu!\n"
          ]
        }
      ]
    },
    {
      "cell_type": "code",
      "source": [
        "#33 Verificação de anagramas\n",
        "\n",
        "def verificar_anagrama(palavra1, palavra2):\n",
        "    palavra1 = palavra1.replace(\" \", \"\").lower()\n",
        "    palavra2 = palavra2.replace(\" \", \"\").lower()\n",
        "\n",
        "    return sorted(palavra1) == sorted(palavra2)\n",
        "\n",
        "palavra1 = input(\"Digite a primeira palavra: \")\n",
        "palavra2 = input(\"Digite a segunda palavra: \")\n",
        "\n",
        "if verificar_anagrama(palavra1, palavra2):\n",
        "    print(f\"'{palavra1}' e '{palavra2}' são anagramas.\")\n",
        "else:\n",
        "    print(f\"'{palavra1}' e '{palavra2}' NÃO são anagramas.\")\n"
      ],
      "metadata": {
        "colab": {
          "base_uri": "https://localhost:8080/"
        },
        "id": "LGtY1AREUDaw",
        "outputId": "41382a20-05e2-43e5-e21e-c8a7c83fe770"
      },
      "execution_count": null,
      "outputs": [
        {
          "output_type": "stream",
          "name": "stdout",
          "text": [
            "Digite a primeira palavra: thiago\n",
            "Digite a segunda palavra: software\n",
            "'thiago' e 'software' NÃO são anagramas.\n"
          ]
        }
      ]
    },
    {
      "cell_type": "code",
      "source": [
        "#34 Contador de vogais\n",
        "\n",
        "def contar_vogais(s):\n",
        "    vogais = \"aeiouAEIOU\"\n",
        "    contador = sum(1 for letra in s if letra in vogais)\n",
        "    return contador\n",
        "\n",
        "entrada = input(\"Digite uma string: \")\n",
        "numero_de_vogais = contar_vogais(entrada)\n",
        "print(f\"O número de vogais na string é: {numero_de_vogais}\")\n"
      ],
      "metadata": {
        "colab": {
          "base_uri": "https://localhost:8080/"
        },
        "id": "VBMvY_jjUTDQ",
        "outputId": "3f931d92-acce-4dec-89a4-dbdf5105a451"
      },
      "execution_count": null,
      "outputs": [
        {
          "output_type": "stream",
          "name": "stdout",
          "text": [
            "Digite uma string: thiago\n",
            "O número de vogais na string é: 3\n"
          ]
        }
      ]
    },
    {
      "cell_type": "code",
      "source": [
        "#35 Fibonacci\n",
        "\n",
        "def fibonacci(n):\n",
        "    sequencia = [0, 1]\n",
        "    while sequencia[-1] + sequencia[-2] <= n:\n",
        "        sequencia.append(sequencia[-1] + sequencia[-2])\n",
        "    return sequencia\n",
        "\n",
        "n = int(input(\"Digite um número para gerar a sequência de Fibonacci até ele: \"))\n",
        "\n",
        "sequencia_fibonacci = fibonacci(n)\n",
        "print(f\"A sequência de Fibonacci até {n} é: {sequencia_fibonacci}\")\n"
      ],
      "metadata": {
        "colab": {
          "base_uri": "https://localhost:8080/"
        },
        "id": "AWBf_CPhUfIw",
        "outputId": "e7a9e65b-eda8-40ad-c8bb-110c3741aca0"
      },
      "execution_count": null,
      "outputs": [
        {
          "output_type": "stream",
          "name": "stdout",
          "text": [
            "Digite um número para gerar a sequência de Fibonacci até ele: 12\n",
            "A sequência de Fibonacci até 12 é: [0, 1, 1, 2, 3, 5, 8]\n"
          ]
        }
      ]
    },
    {
      "cell_type": "code",
      "source": [
        "#36 Gerador de Senhas\n",
        "\n",
        "def gerar_senha(tamanho=12):\n",
        "    caracteres = \"abcdefghijklmnopqrstuvwxyzABCDEFGHIJKLMNOPQRSTUVWXYZ0123456789!@#$%^&*()\"\n",
        "    senha = \"\"\n",
        "    for _ in range(tamanho):\n",
        "        senha += caracteres[ord(str(_)) % len(caracteres)]\n",
        "    return senha\n",
        "\n",
        "tamanho = int(input(\"Digite o tamanho da senha: \"))\n",
        "print(\"Senha gerada:\", gerar_senha(tamanho))\n"
      ],
      "metadata": {
        "colab": {
          "base_uri": "https://localhost:8080/"
        },
        "id": "wbjPHVtBmV41",
        "outputId": "56d9e33b-ade8-4c65-f909-e67c1226f904"
      },
      "execution_count": null,
      "outputs": [
        {
          "output_type": "stream",
          "name": "stdout",
          "text": [
            "Digite o tamanho da senha: 6\n",
            "Senha gerada: WXYZ01\n"
          ]
        }
      ]
    },
    {
      "cell_type": "code",
      "source": [
        "#37 Funções Recursivas\n",
        "\n",
        "def fatorial(n):\n",
        "    if n == 0 or n == 1:\n",
        "        return 1\n",
        "    return n * fatorial(n - 1)\n",
        "\n",
        "numero = int(input(\"Digite um número: \"))\n",
        "print(\"Fatorial:\", fatorial(numero))"
      ],
      "metadata": {
        "colab": {
          "base_uri": "https://localhost:8080/"
        },
        "id": "bx9ercqVnczw",
        "outputId": "b843f2bd-bd1f-4074-d346-da41acd40ba1"
      },
      "execution_count": null,
      "outputs": [
        {
          "output_type": "stream",
          "name": "stdout",
          "text": [
            "Digite um número: 25\n",
            "Fatorial: 15511210043330985984000000\n"
          ]
        }
      ]
    },
    {
      "cell_type": "code",
      "source": [
        "#38 Contar Palavras em texto\n",
        "\n",
        "def contar_palavras(texto):\n",
        "    contador = 0\n",
        "    dentro_palavra = False\n",
        "    for caractere in texto:\n",
        "        if caractere != ' ':\n",
        "            if not dentro_palavra:\n",
        "                contador += 1\n",
        "                dentro_palavra = True\n",
        "        else:\n",
        "            dentro_palavra = False\n",
        "    return contador\n",
        "\n",
        "\n",
        "texto = input(\"Digite um texto: \")\n",
        "print(\"Número de palavras:\", contar_palavras(texto))"
      ],
      "metadata": {
        "colab": {
          "base_uri": "https://localhost:8080/"
        },
        "id": "9DRdlxO2n_8J",
        "outputId": "b5304c3d-5270-4ef0-b85d-3cd4ecdf41ba"
      },
      "execution_count": null,
      "outputs": [
        {
          "output_type": "stream",
          "name": "stdout",
          "text": [
            "Digite um texto: engenharia de software periodo noturno\n",
            "Número de palavras: 5\n"
          ]
        }
      ]
    },
    {
      "cell_type": "code",
      "source": [
        "#39 Jogo de dados\n",
        "\n",
        "def lancar_dado(seed):\n",
        "    seed = (seed * 1103515245 + 12345) % 32768\n",
        "    return (seed % 6) + 1, seed\n",
        "\n",
        "def simular_lancamento():\n",
        "    seed = 1\n",
        "    dado1, seed = lancar_dado(seed)\n",
        "    dado2, _ = lancar_dado(seed)\n",
        "    return dado1, dado2\n",
        "\n",
        "d1, d2 = simular_lancamento()\n",
        "print(\"Resultado dos dados:\", d1, \"e\", d2)\n"
      ],
      "metadata": {
        "colab": {
          "base_uri": "https://localhost:8080/"
        },
        "id": "6rYYm1e9pRFo",
        "outputId": "1c8277fb-51ba-4305-e40e-a5eac26df36c"
      },
      "execution_count": null,
      "outputs": [
        {
          "output_type": "stream",
          "name": "stdout",
          "text": [
            "Resultado dos dados: 5 e 4\n"
          ]
        }
      ]
    },
    {
      "cell_type": "code",
      "source": [
        "#40 Lista de compras\n",
        "\n",
        "def adicionar_item(lista, item):\n",
        "    lista.append(item)\n",
        "    print(f'\\\"{item}\\\" adicionado à lista.')\n",
        "\n",
        "def remover_item(lista, item):\n",
        "    if item in lista:\n",
        "        lista.remove(item)\n",
        "        print(f'\\\"{item}\\\" removido da lista.')\n",
        "    else:\n",
        "        print(f'\\\"{item}\\\" não encontrado na lista.')\n",
        "\n",
        "def listar_itens(lista):\n",
        "    if lista:\n",
        "        print(\"Lista de compras:\")\n",
        "        for i, item in enumerate(lista, 1):\n",
        "            print(f'{i}. {item}')\n",
        "    else:\n",
        "        print(\"A lista de compras está vazia.\")\n",
        "\n",
        "def menu():\n",
        "    lista_compras = []\n",
        "    while True:\n",
        "        print(\"\\n1. Adicionar item\\n2. Remover item\\n3. Listar itens\\n4. Sair\")\n",
        "        opcao = input(\"Escolha uma opção: \")\n",
        "\n",
        "        if opcao == \"1\":\n",
        "            item = input(\"Digite o nome do item: \")\n",
        "            adicionar_item(lista_compras, item)\n",
        "        elif opcao == \"2\":\n",
        "            item = input(\"Digite o nome do item: \")\n",
        "            remover_item(lista_compras, item)\n",
        "        elif opcao == \"3\":\n",
        "            listar_itens(lista_compras)\n",
        "        elif opcao == \"4\":\n",
        "            print(\"Saindo...\")\n",
        "            break\n",
        "        else:\n",
        "            print(\"Opção inválida, tente novamente.\")\n",
        "\n",
        "menu()"
      ],
      "metadata": {
        "colab": {
          "base_uri": "https://localhost:8080/"
        },
        "id": "yJvtAH0Npkhx",
        "outputId": "28dc6bcc-8ddf-4842-f65a-88c9416efa2e"
      },
      "execution_count": null,
      "outputs": [
        {
          "output_type": "stream",
          "name": "stdout",
          "text": [
            "\n",
            "1. Adicionar item\n",
            "2. Remover item\n",
            "3. Listar itens\n",
            "4. Sair\n",
            "Escolha uma opção: 1\n",
            "Digite o nome do item: maça\n",
            "\"maça\" adicionado à lista.\n",
            "\n",
            "1. Adicionar item\n",
            "2. Remover item\n",
            "3. Listar itens\n",
            "4. Sair\n",
            "Escolha uma opção: 3\n",
            "Lista de compras:\n",
            "1. maça\n",
            "\n",
            "1. Adicionar item\n",
            "2. Remover item\n",
            "3. Listar itens\n",
            "4. Sair\n",
            "Escolha uma opção: 2\n",
            "Digite o nome do item: maça\n",
            "\"maça\" removido da lista.\n",
            "\n",
            "1. Adicionar item\n",
            "2. Remover item\n",
            "3. Listar itens\n",
            "4. Sair\n",
            "Escolha uma opção: 4\n",
            "Saindo...\n"
          ]
        }
      ]
    },
    {
      "cell_type": "code",
      "source": [
        "#41 Remover Duplicatas\n",
        "\n",
        "def remover_duplicatas(lista):\n",
        "    lista_sem_duplicatas = []\n",
        "    for num in lista:\n",
        "        if num not in lista_sem_duplicatas:\n",
        "            lista_sem_duplicatas.append(num)\n",
        "    return lista_sem_duplicatas\n",
        "\n",
        "\n",
        "numeros = [1, 2, 2, 3, 4, 4, 5, 6, 6, 7]\n",
        "numeros_sem_duplicatas = remover_duplicatas(numeros)\n",
        "print(\"Lista sem duplicatas:\", numeros_sem_duplicatas)\n"
      ],
      "metadata": {
        "colab": {
          "base_uri": "https://localhost:8080/"
        },
        "id": "UVeeIZ0PqRtl",
        "outputId": "78cc052c-328e-47aa-e6d7-9a733ce47111"
      },
      "execution_count": null,
      "outputs": [
        {
          "output_type": "stream",
          "name": "stdout",
          "text": [
            "Lista sem duplicatas: [1, 2, 3, 4, 5, 6, 7]\n"
          ]
        }
      ]
    },
    {
      "cell_type": "code",
      "source": [
        "#42 Números primos até N\n",
        "\n",
        "def true_primo(n):\n",
        "    if n < 2:\n",
        "        return False\n",
        "    for i in range(2, n):\n",
        "        if n % i == 0:\n",
        "            return False\n",
        "    return True\n",
        "\n",
        "def gerar_primos(limite):\n",
        "    primos = []\n",
        "    for num in range(2, limite + 1):\n",
        "        if true_primo(num):\n",
        "            primos.append(num)\n",
        "    return primos\n",
        "\n",
        "limite = int(input(\"Digite um número: \"))\n",
        "print(\"Números primos até\", limite, \":\", gerar_primos(limite))\n"
      ],
      "metadata": {
        "colab": {
          "base_uri": "https://localhost:8080/"
        },
        "id": "Y4PMmNiNrAYc",
        "outputId": "3552610f-7fba-43e4-f71f-f0ba4e866335"
      },
      "execution_count": null,
      "outputs": [
        {
          "output_type": "stream",
          "name": "stdout",
          "text": [
            "Digite um número: 18\n",
            "Números primos até 18 : [2, 3, 5, 7, 11, 13, 17]\n"
          ]
        }
      ]
    },
    {
      "cell_type": "code",
      "source": [
        "#43 Conversor de Unidades\n",
        "\n",
        "def converter_comprimento(valor, unidade_origem, unidade_destino):\n",
        "    unidades = {\n",
        "        \"metros\": 1,\n",
        "        \"centimetros\": 100,\n",
        "        \"milimetros\": 1000,\n",
        "        \"quilometros\": 0.001\n",
        "    }\n",
        "\n",
        "    if unidade_origem in unidades and unidade_destino in unidades:\n",
        "        return valor * (unidades[unidade_destino] / unidades[unidade_origem])\n",
        "    else:\n",
        "        return \"Unidade inválida\"\n",
        "\n",
        "valor = float(input(\"Digite o valor: \"))\n",
        "unidade_origem = input(\"Digite a unidade de origem (metros, centimetros, milimetros, quilometros): \")\n",
        "unidade_destino = input(\"Digite a unidade de destino (metros, centimetros, milimetros, quilometros): \")\n",
        "resultado = converter_comprimento(valor, unidade_origem, unidade_destino)\n",
        "print(\"Resultado:\", resultado)\n"
      ],
      "metadata": {
        "colab": {
          "base_uri": "https://localhost:8080/"
        },
        "id": "3QHi5k78rgks",
        "outputId": "bbb91469-7766-4da5-e39c-a644443f7574"
      },
      "execution_count": null,
      "outputs": [
        {
          "output_type": "stream",
          "name": "stdout",
          "text": [
            "Digite o valor: 150\n",
            "Digite a unidade de origem (metros, centimetros, milimetros, quilometros): centimetros\n",
            "Digite a unidade de destino (metros, centimetros, milimetros, quilometros): milimetros\n",
            "Resultado: 1500.0\n"
          ]
        }
      ]
    },
    {
      "cell_type": "code",
      "source": [
        "#44 Fibonacci em Nível\n",
        "\n",
        "def fibonacci(n):\n",
        "    a, b = 0, 1\n",
        "    for _ in range(n):\n",
        "        print(a, end=\" \")\n",
        "        a, b = b, a + b\n",
        "\n",
        "n = int(input(\"Digite o número de termos da sequência Fibonacci: \"))\n",
        "fibonacci(n)"
      ],
      "metadata": {
        "colab": {
          "base_uri": "https://localhost:8080/"
        },
        "id": "vOQIweOosS6t",
        "outputId": "4b4312a5-6b0a-4ce8-a9be-c6db811f7771"
      },
      "execution_count": null,
      "outputs": [
        {
          "output_type": "stream",
          "name": "stdout",
          "text": [
            "Digite o número de termos da sequência Fibonacci: 4\n",
            "0 1 1 2 "
          ]
        }
      ]
    },
    {
      "cell_type": "code",
      "source": [
        "#45 Par ou Ímpar\n",
        "\n",
        "def classificar_pares_impares(lista):\n",
        "    pares = []\n",
        "    impares = []\n",
        "\n",
        "    for numero in lista:\n",
        "        if numero % 2 == 0:\n",
        "            pares.append(numero)\n",
        "        else:\n",
        "            impares.append(numero)\n",
        "\n",
        "    return pares, impares\n",
        "\n",
        "lista = [1, 2, 3, 4, 5, 6, 7, 8, 9, 10]\n",
        "pares, impares = classificar_pares_impares(lista)\n",
        "\n",
        "print(\"Pares:\", pares)\n",
        "print(\"Ímpares:\", impares)"
      ],
      "metadata": {
        "colab": {
          "base_uri": "https://localhost:8080/"
        },
        "id": "J0jfzAMss3F8",
        "outputId": "a5c3477d-acf2-4c95-fa3c-36646d5a77a3"
      },
      "execution_count": null,
      "outputs": [
        {
          "output_type": "stream",
          "name": "stdout",
          "text": [
            "Pares: [2, 4, 6, 8, 10]\n",
            "Ímpares: [1, 3, 5, 7, 9]\n"
          ]
        }
      ]
    },
    {
      "cell_type": "code",
      "source": [
        "#46 Calcular Média/Desvio Padrão\n",
        "\n",
        "def calcular_media(lista):\n",
        "    return sum(lista) / len(lista)\n",
        "\n",
        "def calcular_desvio_padrao(lista):\n",
        "    media = calcular_media(lista)\n",
        "    somatorio = sum((x - media) ** 2 for x in lista)\n",
        "    variancia = somatorio / len(lista)\n",
        "    return (variancia) ** 0.5\n",
        "\n",
        "\n",
        "lista = [10, 20, 30, 40, 50]\n",
        "\n",
        "media = calcular_media(lista)\n",
        "desvio_padrao = calcular_desvio_padrao(lista)\n",
        "\n",
        "print(\"Média:\", media)\n",
        "print(\"Desvio padrão:\", desvio_padrao)\n"
      ],
      "metadata": {
        "colab": {
          "base_uri": "https://localhost:8080/"
        },
        "id": "VEsj_cM_tWpF",
        "outputId": "b2ff6339-f788-4a1e-c3b0-9aa348b1f0bf"
      },
      "execution_count": null,
      "outputs": [
        {
          "output_type": "stream",
          "name": "stdout",
          "text": [
            "Média: 30.0\n",
            "Desvio padrão: 14.142135623730951\n"
          ]
        }
      ]
    },
    {
      "cell_type": "code",
      "source": [
        "#47 Contar Números em Lista\n",
        "\n",
        "def contar_ocorrencias(lista):\n",
        "    ocorrencias = {}\n",
        "\n",
        "    for numero in lista:\n",
        "        if numero in ocorrencias:\n",
        "            ocorrencias[numero] += 1\n",
        "        else:\n",
        "            ocorrencias[numero] = 1\n",
        "\n",
        "    return ocorrencias\n",
        "\n",
        "lista = [1, 2, 2, 3, 3, 3, 4, 4, 4, 4]\n",
        "\n",
        "resultado = contar_ocorrencias(lista)\n",
        "\n",
        "for numero, quantidade in resultado.items():\n",
        "    print(f'O número {numero} aparece {quantidade} vezes.')"
      ],
      "metadata": {
        "colab": {
          "base_uri": "https://localhost:8080/"
        },
        "id": "qj3D94dit3jI",
        "outputId": "697e0686-bfa3-422d-b994-2d511c81be2d"
      },
      "execution_count": null,
      "outputs": [
        {
          "output_type": "stream",
          "name": "stdout",
          "text": [
            "O número 1 aparece 1 vezes.\n",
            "O número 2 aparece 2 vezes.\n",
            "O número 3 aparece 3 vezes.\n",
            "O número 4 aparece 4 vezes.\n"
          ]
        }
      ]
    },
    {
      "cell_type": "code",
      "source": [
        "#48 Insertion Sort\n",
        "\n",
        "def insertion_sort(lista):\n",
        "    for i in range(1, len(lista)):\n",
        "        chave = lista[i]\n",
        "        j = i - 1\n",
        "        while j >= 0 and lista[j] > chave:\n",
        "            lista[j + 1] = lista[j]\n",
        "            j -= 1\n",
        "        lista[j + 1] = chave\n",
        "\n",
        "lista = [14, 11, 12, 9, 6]\n",
        "insertion_sort(lista)\n",
        "\n",
        "print(\"Lista ordenada:\", lista)"
      ],
      "metadata": {
        "colab": {
          "base_uri": "https://localhost:8080/"
        },
        "id": "8rdh0NqmuO2K",
        "outputId": "994b48bd-9e26-42fa-8f4d-7707e18cb906"
      },
      "execution_count": null,
      "outputs": [
        {
          "output_type": "stream",
          "name": "stdout",
          "text": [
            "Lista ordenada: [6, 9, 11, 12, 14]\n"
          ]
        }
      ]
    },
    {
      "cell_type": "code",
      "source": [
        "#49 Soma dos Digítos\n",
        "\n",
        "def soma_dos_digitos(numero):\n",
        "    soma = 0\n",
        "    while numero > 0:\n",
        "        soma += numero % 10\n",
        "        numero = numero // 10\n",
        "    return soma\n",
        "\n",
        "numero = int(input(\"Digite um número inteiro: \"))\n",
        "resultado = soma_dos_digitos(numero)\n",
        "\n",
        "print(f'A soma dos dígitos do número {numero} é {resultado}.')\n"
      ],
      "metadata": {
        "colab": {
          "base_uri": "https://localhost:8080/"
        },
        "id": "IDQCp6ZEun2C",
        "outputId": "06bb2218-c490-400a-c6f0-9137a7addeaf"
      },
      "execution_count": null,
      "outputs": [
        {
          "output_type": "stream",
          "name": "stdout",
          "text": [
            "Digite um número inteiro: 54\n",
            "A soma dos dígitos do número 54 é 9.\n"
          ]
        }
      ]
    },
    {
      "cell_type": "code",
      "source": [
        "#50 Cálculo de frequência de letras\n",
        "\n",
        "def contar_frequencia_letras(texto):\n",
        "    frequencia = {}\n",
        "\n",
        "    for letra in texto:\n",
        "        if letra.isalpha():\n",
        "            letra = letra.lower()\n",
        "            if letra in frequencia:\n",
        "                frequencia[letra] += 1\n",
        "            else:\n",
        "                frequencia[letra] = 1\n",
        "\n",
        "    return frequencia\n",
        "\n",
        "\n",
        "texto = input(\"Digite uma string: \")\n",
        "resultado = contar_frequencia_letras(texto)\n",
        "\n",
        "for letra, quantidade in resultado.items():\n",
        "    print(f'A letra \"{letra}\" aparece {quantidade} vez(es).')\n"
      ],
      "metadata": {
        "colab": {
          "base_uri": "https://localhost:8080/"
        },
        "id": "qAlFqZ_gvXY6",
        "outputId": "a8de6b00-3ee8-4fa8-9813-1d7997f14b19"
      },
      "execution_count": null,
      "outputs": [
        {
          "output_type": "stream",
          "name": "stdout",
          "text": [
            "Digite uma string: thiago bernardo \n",
            "A letra \"t\" aparece 1 vez(es).\n",
            "A letra \"h\" aparece 1 vez(es).\n",
            "A letra \"i\" aparece 1 vez(es).\n",
            "A letra \"a\" aparece 2 vez(es).\n",
            "A letra \"g\" aparece 1 vez(es).\n",
            "A letra \"o\" aparece 2 vez(es).\n",
            "A letra \"b\" aparece 1 vez(es).\n",
            "A letra \"e\" aparece 1 vez(es).\n",
            "A letra \"r\" aparece 2 vez(es).\n",
            "A letra \"n\" aparece 1 vez(es).\n",
            "A letra \"d\" aparece 1 vez(es).\n"
          ]
        }
      ]
    }
  ]
}